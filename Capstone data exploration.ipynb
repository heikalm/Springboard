{
 "cells": [
  {
   "cell_type": "code",
   "execution_count": 8,
   "metadata": {
    "collapsed": false
   },
   "outputs": [
    {
     "name": "stdout",
     "output_type": "stream",
     "text": [
      "Populating the interactive namespace from numpy and matplotlib\n"
     ]
    }
   ],
   "source": [
    "# import modules\n",
    "\n",
    "import pandas as pd\n",
    "import numpy as np\n",
    "import json\n",
    "from pandas.io.json import json_normalize\n",
    "from geopy.distance import vincenty\n",
    "import re\n",
    "import statsmodels.formula.api as sm\n",
    "%pylab inline\n",
    "\n",
    "# load yelp API\n",
    "\n",
    "from yelp.client import Client\n",
    "from yelp.oauth1_authenticator import Oauth1Authenticator\n",
    "\n",
    "# read API keys\n",
    "with open('config_secret.json') as cred:\n",
    "    creds = json.load(cred)\n",
    "    auth = Oauth1Authenticator(**creds)\n",
    "    client = Client(auth)"
   ]
  },
  {
   "cell_type": "raw",
   "metadata": {
    "collapsed": false
   },
   "source": [
    "# This was used to read the Yelp API. Data is subsequently saved into a .csv for easy retrieval instead of calling the API on every run.\n",
    "\n",
    "offsetsize = 20 #max number of results per query is 20,\n",
    "location_key = 'Manhattan' #required location keyword - can be city, neighbourhood, country\n",
    "term_key = 'bars' #search keyword\n",
    "\n",
    "\n",
    "#initialize blank columns\n",
    "yelp_id=[]\n",
    "name=[]\n",
    "location=[]\n",
    "rating=[]\n",
    "review_count=[]\n",
    "categories=[]\n",
    "snippet_text=[]\n",
    "\n",
    "#create data columns\n",
    "for i in range (0,50):  #yelp only returns up to 1000 entries per keyword\n",
    "    params = {\n",
    "        'term': term_key,\n",
    "        'limit': '20',\n",
    "        'offset': i*offsetsize\n",
    "    }\n",
    "\n",
    "    response=client.search(location_key, **params)\n",
    "    \n",
    "    for sno in range (0,20): \n",
    "        # for each set of 20 responses for each search batch, return the yelp id, names, long, lat, rating, no of reviews, categories and text snippet\n",
    "        yelp_id.append(response.businesses[sno].id)\n",
    "        name.append(response.businesses[sno].name)\n",
    "        location.append((response.businesses[sno].location.coordinate.latitude,response.businesses[sno].location.coordinate.longitude))\n",
    "        rating.append(response.businesses[sno].rating)\n",
    "        review_count.append(response.businesses[sno].review_count)\n",
    "        categories.append(response.businesses[sno].categories)\n",
    "        snippet_text.append(response.businesses[sno].snippet_text)\n",
    "        \n",
    "# create yelp dataframe        \n",
    "yelpdf = pd.DataFrame({\n",
    "        'yelp_id':yelp_id,\n",
    "        'name':name,\n",
    "        'location':location,\n",
    "        'rating':rating,\n",
    "        'review_count':review_count,\n",
    "        'categories':categories,\n",
    "        'snippet_text':snippet_text})\n",
    "     "
   ]
  },
  {
   "cell_type": "raw",
   "metadata": {
    "collapsed": false
   },
   "source": [
    "# write yelpdf to csv (to avoid pulling from API every time)\n",
    "yelpdf.to_csv(path_or_buf='yelpdf.csv')"
   ]
  },
  {
   "cell_type": "code",
   "execution_count": 9,
   "metadata": {
    "collapsed": true
   },
   "outputs": [],
   "source": [
    "yelpdf = pd.read_csv('yelpdf.csv')"
   ]
  },
  {
   "cell_type": "code",
   "execution_count": 10,
   "metadata": {
    "collapsed": false
   },
   "outputs": [],
   "source": [
    "# load NYC felonies data\n",
    "crimedf = pd.read_csv('NYPD_7_Major_Felony_Incident_Map.csv')\n"
   ]
  },
  {
   "cell_type": "raw",
   "metadata": {
    "collapsed": true
   },
   "source": [
    "# use only 2015 incidents\n",
    "crimedf2015=crimedf[crimedf['Occurrence Year']==2015]"
   ]
  },
  {
   "cell_type": "raw",
   "metadata": {
    "collapsed": false
   },
   "source": [
    "# convert text lat/long coordinates to float tuples\n",
    "\n",
    "tupler = lambda x: tuple(map(float, str.split(x[1:-1], sep=',')))\n",
    "\n",
    "crimedf2015['loc coordinate']=crimedf2015['Location 1'].apply(tupler)\n",
    "yelpdf['loc coordinate']=yelpdf['location'].apply(tupler)"
   ]
  },
  {
   "cell_type": "raw",
   "metadata": {
    "collapsed": false
   },
   "source": [
    "# delete extraneous index column from csv, set yelp_id as index\n",
    "\n",
    "del yelpdf['Unnamed: 0']\n",
    "yelpdf=yelpdf.set_index('yelp_id')"
   ]
  },
  {
   "cell_type": "raw",
   "metadata": {
    "collapsed": false
   },
   "source": [
    "# define distance calculation function using Vincenty's formula from lat/long pairs\n",
    "\n",
    "def distcalc(pointA, pointB):\n",
    "    if type(pointA)!=tuple or type(pointA[0])!=float or type(pointA[1])!=float or len(pointA)!=2 or type(pointB)!=tuple or type(pointB[0])!=float  or type(pointB[1])!=float  or len(pointB)!=2:\n",
    "        print('each point must be a lat/long float tuple')\n",
    "    else:\n",
    "        return vincenty(pointA, pointB).miles"
   ]
  },
  {
   "cell_type": "raw",
   "metadata": {
    "collapsed": false
   },
   "source": [
    "# crime filter: for any given point, return the list of felonies within the threshold\n",
    "\n",
    "def crimeindexlist(pointA, crimetable, threshold=0.25):\n",
    "    distlist=[]\n",
    "    for crimeloc in crimetable['loc coordinate']:\n",
    "        distlist.append(distcalc(pointA, crimeloc))\n",
    "    crimelist=pd.DataFrame({'Identifier':crimetable['Identifier'], 'Distance':distlist})\n",
    "    return crimelist[crimelist['Distance']<threshold].set_index('Identifier')\n"
   ]
  },
  {
   "cell_type": "raw",
   "metadata": {
    "collapsed": false
   },
   "source": [
    "# build crime index list for any yelp_id\n",
    "\n",
    "def crimeindexinput (yelp_id_input, crimetable=crimedf2015, threshold=0.25):\n",
    "    return crimeindexlist(yelpdf.loc[yelp_id_input]['loc coordinate'], crimetable, threshold)\n"
   ]
  },
  {
   "cell_type": "raw",
   "metadata": {
    "collapsed": false
   },
   "source": [
    "# build crime index list for specific yelp_ids for bars in Manhattan as pulled from yelp API\n",
    "\n",
    "crimescore=[]\n",
    "for business in yelpdf.index:\n",
    "    crimescore.append(len(crimeindexinput(business)))\n",
    "crimeindexdf=pd.DataFrame({'crime_score':crimescore}, index=yelpdf.index)"
   ]
  },
  {
   "cell_type": "raw",
   "metadata": {
    "collapsed": false
   },
   "source": [
    "# add business name, rating, category from yelp dataframe\n",
    "\n",
    "crimeindexdf['business_name']=yelpdf['name']\n",
    "crimeindexdf['rating']=yelpdf['rating']\n",
    "crimeindexdf['category']=yelpdf['categories']"
   ]
  },
  {
   "cell_type": "raw",
   "metadata": {
    "collapsed": true
   },
   "source": [
    "# save as crimeindex as csv instead of recalculating crime scores\n",
    "\n",
    "crimeindexdf.to_csv(path_or_buf='crimeindexdf.csv')"
   ]
  },
  {
   "cell_type": "code",
   "execution_count": 42,
   "metadata": {
    "collapsed": true
   },
   "outputs": [],
   "source": [
    "crimeindexdf = pd.read_csv('crimeindexdf.csv')"
   ]
  },
  {
   "cell_type": "code",
   "execution_count": 43,
   "metadata": {
    "collapsed": true
   },
   "outputs": [],
   "source": [
    "# create category aliases using Category data\n",
    "category_alias_unpacker = lambda x: re.findall(\"alias='(\\w+)'\", x)\n",
    "\n",
    "crimeindexdf['cat_alias']=crimeindexdf['category'].apply(category_alias_unpacker)"
   ]
  },
  {
   "cell_type": "code",
   "execution_count": 45,
   "metadata": {
    "collapsed": false
   },
   "outputs": [],
   "source": [
    "del crimeindexdf['category']"
   ]
  },
  {
   "cell_type": "code",
   "execution_count": 46,
   "metadata": {
    "collapsed": false
   },
   "outputs": [
    {
     "data": {
      "text/html": [
       "<div>\n",
       "<table border=\"1\" class=\"dataframe\">\n",
       "  <thead>\n",
       "    <tr style=\"text-align: right;\">\n",
       "      <th></th>\n",
       "      <th>yelp_id</th>\n",
       "      <th>crime_score</th>\n",
       "      <th>business_name</th>\n",
       "      <th>rating</th>\n",
       "      <th>cat_alias</th>\n",
       "    </tr>\n",
       "  </thead>\n",
       "  <tbody>\n",
       "    <tr>\n",
       "      <th>0</th>\n",
       "      <td>the-hamilton-new-york-3</td>\n",
       "      <td>196</td>\n",
       "      <td>The Hamilton</td>\n",
       "      <td>4.5</td>\n",
       "      <td>[newamerican, cocktailbars, whiskeybars]</td>\n",
       "    </tr>\n",
       "    <tr>\n",
       "      <th>1</th>\n",
       "      <td>dutch-freds-new-york-2</td>\n",
       "      <td>646</td>\n",
       "      <td>Dutch Freds</td>\n",
       "      <td>4.5</td>\n",
       "      <td>[cocktailbars, tapasmallplates, newamerican]</td>\n",
       "    </tr>\n",
       "    <tr>\n",
       "      <th>2</th>\n",
       "      <td>es-bar-new-york</td>\n",
       "      <td>238</td>\n",
       "      <td>E's Bar</td>\n",
       "      <td>4.5</td>\n",
       "      <td>[bars]</td>\n",
       "    </tr>\n",
       "  </tbody>\n",
       "</table>\n",
       "</div>"
      ],
      "text/plain": [
       "                   yelp_id  crime_score business_name  rating  \\\n",
       "0  the-hamilton-new-york-3          196  The Hamilton     4.5   \n",
       "1   dutch-freds-new-york-2          646   Dutch Freds     4.5   \n",
       "2          es-bar-new-york          238       E's Bar     4.5   \n",
       "\n",
       "                                      cat_alias  \n",
       "0      [newamerican, cocktailbars, whiskeybars]  \n",
       "1  [cocktailbars, tapasmallplates, newamerican]  \n",
       "2                                        [bars]  "
      ]
     },
     "execution_count": 46,
     "metadata": {},
     "output_type": "execute_result"
    }
   ],
   "source": [
    "crimeindexdf.head(3)"
   ]
  },
  {
   "cell_type": "code",
   "execution_count": 47,
   "metadata": {
    "collapsed": false
   },
   "outputs": [
    {
     "data": {
      "text/html": [
       "<div>\n",
       "<table border=\"1\" class=\"dataframe\">\n",
       "  <thead>\n",
       "    <tr style=\"text-align: right;\">\n",
       "      <th></th>\n",
       "      <th>crime_score</th>\n",
       "      <th>rating</th>\n",
       "    </tr>\n",
       "  </thead>\n",
       "  <tbody>\n",
       "    <tr>\n",
       "      <th>count</th>\n",
       "      <td>1000.000000</td>\n",
       "      <td>1000.000000</td>\n",
       "    </tr>\n",
       "    <tr>\n",
       "      <th>mean</th>\n",
       "      <td>369.486000</td>\n",
       "      <td>3.909500</td>\n",
       "    </tr>\n",
       "    <tr>\n",
       "      <th>std</th>\n",
       "      <td>179.188265</td>\n",
       "      <td>0.399649</td>\n",
       "    </tr>\n",
       "    <tr>\n",
       "      <th>min</th>\n",
       "      <td>1.000000</td>\n",
       "      <td>3.000000</td>\n",
       "    </tr>\n",
       "    <tr>\n",
       "      <th>25%</th>\n",
       "      <td>243.000000</td>\n",
       "      <td>3.500000</td>\n",
       "    </tr>\n",
       "    <tr>\n",
       "      <th>50%</th>\n",
       "      <td>344.500000</td>\n",
       "      <td>4.000000</td>\n",
       "    </tr>\n",
       "    <tr>\n",
       "      <th>75%</th>\n",
       "      <td>446.000000</td>\n",
       "      <td>4.000000</td>\n",
       "    </tr>\n",
       "    <tr>\n",
       "      <th>max</th>\n",
       "      <td>1068.000000</td>\n",
       "      <td>5.000000</td>\n",
       "    </tr>\n",
       "  </tbody>\n",
       "</table>\n",
       "</div>"
      ],
      "text/plain": [
       "       crime_score       rating\n",
       "count  1000.000000  1000.000000\n",
       "mean    369.486000     3.909500\n",
       "std     179.188265     0.399649\n",
       "min       1.000000     3.000000\n",
       "25%     243.000000     3.500000\n",
       "50%     344.500000     4.000000\n",
       "75%     446.000000     4.000000\n",
       "max    1068.000000     5.000000"
      ]
     },
     "execution_count": 47,
     "metadata": {},
     "output_type": "execute_result"
    }
   ],
   "source": [
    "# summary statistics\n",
    "\n",
    "crimeindexdf.describe()"
   ]
  },
  {
   "cell_type": "code",
   "execution_count": 48,
   "metadata": {
    "collapsed": false,
    "scrolled": true
   },
   "outputs": [
    {
     "data": {
      "image/png": "[encoded data removed]",
      "text/plain": [
       "<matplotlib.figure.Figure at 0x10fab9a90>"
      ]
     },
     "metadata": {},
     "output_type": "display_data"
    }
   ],
   "source": [
    "# histogram of crime scores\n",
    "\n",
    "fig, ax = plt.subplots()\n",
    "\n",
    "H = ax.hist(crimeindexdf['crime_score'], bins=100, alpha=0.5, histtype='stepfilled')"
   ]
  },
  {
   "cell_type": "code",
   "execution_count": 49,
   "metadata": {
    "collapsed": false,
    "scrolled": true
   },
   "outputs": [
    {
     "data": {
      "image/png": "[encoded data removed]",
      "text/plain": [
       "<matplotlib.figure.Figure at 0x10fab9860>"
      ]
     },
     "metadata": {},
     "output_type": "display_data"
    }
   ],
   "source": [
    "# histogram of ratings\n",
    "\n",
    "fig, ax = plt.subplots()\n",
    "\n",
    "H = ax.hist(crimeindexdf['rating'], bins=5, alpha=0.5, histtype='stepfilled')"
   ]
  },
  {
   "cell_type": "code",
   "execution_count": 50,
   "metadata": {
    "collapsed": false
   },
   "outputs": [
    {
     "name": "stderr",
     "output_type": "stream",
     "text": [
      "/Users/Heikal/anaconda/lib/python3.4/site-packages/matplotlib/collections.py:590: FutureWarning: elementwise comparison failed; returning scalar instead, but in the future will perform elementwise comparison\n",
      "  if self._edgecolors == str('face'):\n"
     ]
    },
    {
     "data": {
      "image/png": "[encoded data removed]",
      "text/plain": [
       "<matplotlib.figure.Figure at 0x10e097eb8>"
      ]
     },
     "metadata": {},
     "output_type": "display_data"
    }
   ],
   "source": [
    "# scatterplot of crime score vs ratings\n",
    "\n",
    "fig, ax = plt.subplots()\n",
    "im = ax.scatter(crimeindexdf['crime_score'], crimeindexdf['rating'],  cmap=plt.cm.jet)"
   ]
  },
  {
   "cell_type": "code",
   "execution_count": 157,
   "metadata": {
    "collapsed": false
   },
   "outputs": [],
   "source": [
    "#need a way to easily slice across categories\n",
    "\n",
    "#build list of unique category aliases\n",
    "\n",
    "unique_cat_alias=[]\n",
    "for x in yelpdf.cat_alias:\n",
    "    for y in x:\n",
    "        unique_cat_alias.append(y)\n",
    "set(unique_cat_alias)\n",
    "\n",
    "    "
   ]
  },
  {
   "cell_type": "code",
   "execution_count": null,
   "metadata": {
    "collapsed": false
   },
   "outputs": [],
   "source": []
  },
  {
   "cell_type": "code",
   "execution_count": 51,
   "metadata": {
    "collapsed": false
   },
   "outputs": [],
   "source": [
    "#create function to take in category name as input and creates crime index df for that category as output"
   ]
  },
  {
   "cell_type": "code",
   "execution_count": null,
   "metadata": {
    "collapsed": false
   },
   "outputs": [],
   "source": []
  },
  {
   "cell_type": "code",
   "execution_count": null,
   "metadata": {
    "collapsed": false
   },
   "outputs": [],
   "source": []
  },
  {
   "cell_type": "code",
   "execution_count": null,
   "metadata": {
    "collapsed": true
   },
   "outputs": [],
   "source": []
  },
  {
   "cell_type": "code",
   "execution_count": null,
   "metadata": {
    "collapsed": true
   },
   "outputs": [],
   "source": []
  }
 ],
 "metadata": {
  "kernelspec": {
   "display_name": "Python 3",
   "language": "python",
   "name": "python3"
  },
  "language_info": {
   "codemirror_mode": {
    "name": "ipython",
    "version": 3
   },
   "file_extension": ".py",
   "mimetype": "text/x-python",
   "name": "python",
   "nbconvert_exporter": "python",
   "pygments_lexer": "ipython3",
   "version": "3.4.4"
  }
 },
 "nbformat": 4,
 "nbformat_minor": 0
}
