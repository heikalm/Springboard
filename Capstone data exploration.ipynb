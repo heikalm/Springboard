{
 "cells": [
  {
   "cell_type": "code",
   "execution_count": null,
   "metadata": {
    "collapsed": false
   },
   "outputs": [],
   "source": [
    "# import modules\n",
    "\n",
    "import pandas as pd\n",
    "import numpy as np\n",
    "import json\n",
    "from pandas.io.json import json_normalize\n",
    "from geopy.distance import vincenty\n",
    "import re\n",
    "import statsmodels.formula.api as sm\n",
    "%pylab inline\n",
    "\n",
    "# load yelp API\n",
    "\n",
    "from yelp.client import Client\n",
    "from yelp.oauth1_authenticator import Oauth1Authenticator\n",
    "\n",
    "# read API keys\n",
    "with open('config_secret.json') as cred:\n",
    "    creds = json.load(cred)\n",
    "    auth = Oauth1Authenticator(**creds)\n",
    "    client = Client(auth)"
   ]
  },
  {
   "cell_type": "raw",
   "metadata": {
    "collapsed": false
   },
   "source": [
    "# This was used to read the Yelp API. Data is subsequently saved into a .csv for easy retrieval instead of calling the API on every run.\n",
    "\n",
    "offsetsize = 20 #max number of results per query is 20,\n",
    "location_key = 'Manhattan' #required location keyword - can be city, neighbourhood, country\n",
    "term_key = 'bars' #search keyword\n",
    "\n",
    "\n",
    "#initialize blank columns\n",
    "yelp_id=[]\n",
    "name=[]\n",
    "location=[]\n",
    "rating=[]\n",
    "review_count=[]\n",
    "categories=[]\n",
    "snippet_text=[]\n",
    "\n",
    "#create data columns\n",
    "for i in range (0,50):  #yelp only returns up to 1000 entries per keyword\n",
    "    params = {\n",
    "        'term': term_key,\n",
    "        'limit': '20',\n",
    "        'offset': i*offsetsize\n",
    "    }\n",
    "\n",
    "    response=client.search(location_key, **params)\n",
    "    \n",
    "    for sno in range (0,20): \n",
    "        # for each set of 20 responses for each search batch, return the yelp id, names, long, lat, rating, no of reviews, categories and text snippet\n",
    "        yelp_id.append(response.businesses[sno].id)\n",
    "        name.append(response.businesses[sno].name)\n",
    "        location.append((response.businesses[sno].location.coordinate.latitude,response.businesses[sno].location.coordinate.longitude))\n",
    "        rating.append(response.businesses[sno].rating)\n",
    "        review_count.append(response.businesses[sno].review_count)\n",
    "        categories.append(response.businesses[sno].categories)\n",
    "        snippet_text.append(response.businesses[sno].snippet_text)\n",
    "        \n",
    "# create yelp dataframe        \n",
    "yelpdf = pd.DataFrame({\n",
    "        'yelp_id':yelp_id,\n",
    "        'name':name,\n",
    "        'location':location,\n",
    "        'rating':rating,\n",
    "        'review_count':review_count,\n",
    "        'categories':categories,\n",
    "        'snippet_text':snippet_text})\n",
    "     "
   ]
  },
  {
   "cell_type": "raw",
   "metadata": {
    "collapsed": false
   },
   "source": [
    "# write yelpdf to csv (to avoid pulling from API every time)\n",
    "yelpdf.to_csv(path_or_buf='yelpdf.csv')"
   ]
  },
  {
   "cell_type": "code",
   "execution_count": null,
   "metadata": {
    "collapsed": true
   },
   "outputs": [],
   "source": [
    "yelpdf = pd.read_csv('yelpdf.csv')"
   ]
  },
  {
   "cell_type": "code",
   "execution_count": null,
   "metadata": {
    "collapsed": false
   },
   "outputs": [],
   "source": [
    "# load NYC felonies data\n",
    "crimedf = pd.read_csv('NYPD_7_Major_Felony_Incident_Map.csv')\n"
   ]
  },
  {
   "cell_type": "raw",
   "metadata": {
    "collapsed": true
   },
   "source": [
    "# use only 2015 incidents\n",
    "crimedf2015=crimedf[crimedf['Occurrence Year']==2015]"
   ]
  },
  {
   "cell_type": "raw",
   "metadata": {
    "collapsed": false
   },
   "source": [
    "# convert text lat/long coordinates to float tuples\n",
    "\n",
    "tupler = lambda x: tuple(map(float, str.split(x[1:-1], sep=',')))\n",
    "\n",
    "crimedf2015['loc coordinate']=crimedf2015['Location 1'].apply(tupler)\n",
    "yelpdf['loc coordinate']=yelpdf['location'].apply(tupler)"
   ]
  },
  {
   "cell_type": "raw",
   "metadata": {
    "collapsed": false
   },
   "source": [
    "# delete extraneous index column from csv, set yelp_id as index\n",
    "\n",
    "del yelpdf['Unnamed: 0']\n",
    "yelpdf=yelpdf.set_index('yelp_id')"
   ]
  },
  {
   "cell_type": "raw",
   "metadata": {
    "collapsed": false
   },
   "source": [
    "# define distance calculation function using Vincenty's formula from lat/long pairs\n",
    "\n",
    "def distcalc(pointA, pointB):\n",
    "    if type(pointA)!=tuple or type(pointA[0])!=float or type(pointA[1])!=float or len(pointA)!=2 or type(pointB)!=tuple or type(pointB[0])!=float  or type(pointB[1])!=float  or len(pointB)!=2:\n",
    "        print('each point must be a lat/long float tuple')\n",
    "    else:\n",
    "        return vincenty(pointA, pointB).miles"
   ]
  },
  {
   "cell_type": "raw",
   "metadata": {
    "collapsed": false
   },
   "source": [
    "# crime filter: for any given point, return the list of felonies within the threshold\n",
    "\n",
    "def crimeindexlist(pointA, crimetable, threshold=0.25):\n",
    "    distlist=[]\n",
    "    for crimeloc in crimetable['loc coordinate']:\n",
    "        distlist.append(distcalc(pointA, crimeloc))\n",
    "    crimelist=pd.DataFrame({'Identifier':crimetable['Identifier'], 'Distance':distlist})\n",
    "    return crimelist[crimelist['Distance']<threshold].set_index('Identifier')\n"
   ]
  },
  {
   "cell_type": "raw",
   "metadata": {
    "collapsed": false
   },
   "source": [
    "# build crime index list for any yelp_id\n",
    "\n",
    "def crimeindexinput (yelp_id_input, crimetable=crimedf2015, threshold=0.25):\n",
    "    return crimeindexlist(yelpdf.loc[yelp_id_input]['loc coordinate'], crimetable, threshold)\n"
   ]
  },
  {
   "cell_type": "raw",
   "metadata": {
    "collapsed": false
   },
   "source": [
    "# build crime index list for specific yelp_ids for bars in Manhattan as pulled from yelp API\n",
    "\n",
    "crimescore=[]\n",
    "for business in yelpdf.index:\n",
    "    crimescore.append(len(crimeindexinput(business)))\n",
    "crimeindexdf=pd.DataFrame({'crime_score':crimescore}, index=yelpdf.index)"
   ]
  },
  {
   "cell_type": "raw",
   "metadata": {
    "collapsed": false
   },
   "source": [
    "# add business name, rating, category from yelp dataframe\n",
    "\n",
    "crimeindexdf['business_name']=yelpdf['name']\n",
    "crimeindexdf['rating']=yelpdf['rating']\n",
    "crimeindexdf['category']=yelpdf['categories']"
   ]
  },
  {
   "cell_type": "raw",
   "metadata": {
    "collapsed": true
   },
   "source": [
    "# save as crimeindex as csv instead of recalculating crime scores\n",
    "\n",
    "crimeindexdf.to_csv(path_or_buf='crimeindexdf.csv')"
   ]
  },
  {
   "cell_type": "code",
   "execution_count": null,
   "metadata": {
    "collapsed": true
   },
   "outputs": [],
   "source": [
    "crimeindexdf = pd.read_csv('crimeindexdf.csv')"
   ]
  },
  {
   "cell_type": "code",
   "execution_count": null,
   "metadata": {
    "collapsed": true
   },
   "outputs": [],
   "source": [
    "# create category aliases using Category data\n",
    "category_alias_unpacker = lambda x: re.findall(\"alias='(\\w+)'\", x)\n",
    "\n",
    "crimeindexdf['cat_alias']=crimeindexdf['category'].apply(category_alias_unpacker)"
   ]
  },
  {
   "cell_type": "code",
   "execution_count": null,
   "metadata": {
    "collapsed": false
   },
   "outputs": [],
   "source": [
    "del crimeindexdf['category']"
   ]
  },
  {
   "cell_type": "code",
   "execution_count": null,
   "metadata": {
    "collapsed": false
   },
   "outputs": [],
   "source": [
    "crimeindexdf.head(3)"
   ]
  },
  {
   "cell_type": "code",
   "execution_count": null,
   "metadata": {
    "collapsed": false
   },
   "outputs": [],
   "source": [
    "# summary statistics\n",
    "\n",
    "crimeindexdf.describe()"
   ]
  },
  {
   "cell_type": "code",
   "execution_count": null,
   "metadata": {
    "collapsed": false,
    "scrolled": true
   },
   "outputs": [],
   "source": [
    "# histogram of crime scores\n",
    "\n",
    "fig, ax = plt.subplots()\n",
    "\n",
    "H = ax.hist(crimeindexdf['crime_score'], bins=100, alpha=0.5, histtype='stepfilled')"
   ]
  },
  {
   "cell_type": "code",
   "execution_count": null,
   "metadata": {
    "collapsed": false,
    "scrolled": true
   },
   "outputs": [],
   "source": [
    "# histogram of ratings\n",
    "\n",
    "fig, ax = plt.subplots()\n",
    "\n",
    "H = ax.hist(crimeindexdf['rating'], bins=5, alpha=0.5, histtype='stepfilled')"
   ]
  },
  {
   "cell_type": "code",
   "execution_count": null,
   "metadata": {
    "collapsed": false
   },
   "outputs": [],
   "source": [
    "# scatterplot of crime score vs ratings\n",
    "\n",
    "fig, ax = plt.subplots()\n",
    "im = ax.scatter(crimeindexdf['crime_score'], crimeindexdf['rating'],  cmap=plt.cm.jet)"
   ]
  },
  {
   "cell_type": "code",
   "execution_count": null,
   "metadata": {
    "collapsed": false
   },
   "outputs": [],
   "source": [
    "#need a way to easily slice across categories\n",
    "\n",
    "#build list of unique category aliases\n",
    "\n",
    "unique_cat_alias=[]\n",
    "for x in yelpdf.cat_alias:\n",
    "    for y in x:\n",
    "        unique_cat_alias.append(y)\n",
    "set(unique_cat_alias)\n",
    "\n",
    "    "
   ]
  },
  {
   "cell_type": "code",
   "execution_count": null,
   "metadata": {
    "collapsed": false
   },
   "outputs": [],
   "source": []
  },
  {
   "cell_type": "code",
   "execution_count": null,
   "metadata": {
    "collapsed": false
   },
   "outputs": [],
   "source": [
    "#create function to take in category name as input and creates crime index df for that category as output"
   ]
  },
  {
   "cell_type": "code",
   "execution_count": null,
   "metadata": {
    "collapsed": false
   },
   "outputs": [],
   "source": []
  },
  {
   "cell_type": "code",
   "execution_count": null,
   "metadata": {
    "collapsed": false
   },
   "outputs": [],
   "source": []
  },
  {
   "cell_type": "code",
   "execution_count": null,
   "metadata": {
    "collapsed": true
   },
   "outputs": [],
   "source": []
  },
  {
   "cell_type": "code",
   "execution_count": null,
   "metadata": {
    "collapsed": true
   },
   "outputs": [],
   "source": []
  }
 ],
 "metadata": {
  "kernelspec": {
   "display_name": "Python 3",
   "language": "python",
   "name": "python3"
  },
  "language_info": {
   "codemirror_mode": {
    "name": "ipython",
    "version": 3
   },
   "file_extension": ".py",
   "mimetype": "text/x-python",
   "name": "python",
   "nbconvert_exporter": "python",
   "pygments_lexer": "ipython3",
   "version": "3.4.4"
  }
 },
 "nbformat": 4,
 "nbformat_minor": 0
}
